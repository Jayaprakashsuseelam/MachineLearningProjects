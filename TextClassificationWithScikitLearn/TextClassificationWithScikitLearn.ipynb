{
 "cells": [
  {
   "metadata": {},
   "cell_type": "markdown",
   "source": [
    "# Text Classification with Scikit-learn\n",
    "\n",
    "The Jupyter Notebook demonstrates text classification using various machine learning models. The goal is to classify text documents from the 20 Newsgroups dataset into two categories: sci.med and comp.graphics.\n",
    "\n",
    "## Set-up environment\n",
    "\n",
    "First, we install the libraries which we'll use. Ex: pip install torch transformers datasets scikit-learn numpy pandas matplotlib"
   ],
   "id": "16785afe8e9cf5d8"
  },
  {
   "cell_type": "code",
   "id": "initial_id",
   "metadata": {
    "collapsed": true,
    "ExecuteTime": {
     "end_time": "2025-02-27T18:38:45.535897Z",
     "start_time": "2025-02-27T18:37:59.048559Z"
    }
   },
   "source": [
    "from sklearn.datasets import fetch_20newsgroups\n",
    "from sklearn.feature_extraction.text import TfidfVectorizer\n",
    "from sklearn.model_selection import train_test_split\n",
    "from sklearn.linear_model import LogisticRegression\n",
    "from sklearn.metrics import classification_report\n",
    "\n",
    "# Load dataset\n",
    "newsgroups = fetch_20newsgroups(subset='train', categories=['sci.med', 'comp.graphics'])\n",
    "X_train, X_test, y_train, y_test = train_test_split(newsgroups.data, newsgroups.target, test_size=0.2, random_state=42)\n",
    "\n",
    "# Text vectorization\n",
    "vectorizer = TfidfVectorizer()\n",
    "X_train_tfidf = vectorizer.fit_transform(X_train)\n",
    "X_test_tfidf = vectorizer.transform(X_test)\n",
    "\n",
    "# Classifier 1 : Logistic Regression\n",
    "lr = LogisticRegression(max_iter=1000)\n",
    "lr.fit(X_train_tfidf, y_train)\n",
    "y_pred = lr.predict(X_test_tfidf)\n",
    "\n",
    "# Evaluation\n",
    "print(classification_report(y_test, y_pred))"
   ],
   "outputs": [
    {
     "name": "stdout",
     "output_type": "stream",
     "text": [
      "              precision    recall  f1-score   support\n",
      "\n",
      "           0       0.94      0.96      0.95       120\n",
      "           1       0.96      0.94      0.95       116\n",
      "\n",
      "    accuracy                           0.95       236\n",
      "   macro avg       0.95      0.95      0.95       236\n",
      "weighted avg       0.95      0.95      0.95       236\n",
      "\n"
     ]
    }
   ],
   "execution_count": 1
  },
  {
   "metadata": {
    "ExecuteTime": {
     "end_time": "2025-02-27T18:39:36.792862Z",
     "start_time": "2025-02-27T18:39:36.779383Z"
    }
   },
   "cell_type": "code",
   "source": [
    "from sklearn.naive_bayes import MultinomialNB\n",
    "\n",
    "# Classifier 2 : Multinomial Naive Bayes\n",
    "nb = MultinomialNB()\n",
    "nb.fit(X_train_tfidf, y_train)\n",
    "y_pred_nb = nb.predict(X_test_tfidf)\n",
    "\n",
    "# Evaluation\n",
    "print(classification_report(y_test, y_pred_nb))"
   ],
   "id": "a4cb0ac48e01f503",
   "outputs": [
    {
     "name": "stdout",
     "output_type": "stream",
     "text": [
      "              precision    recall  f1-score   support\n",
      "\n",
      "           0       0.99      0.95      0.97       120\n",
      "           1       0.95      0.99      0.97       116\n",
      "\n",
      "    accuracy                           0.97       236\n",
      "   macro avg       0.97      0.97      0.97       236\n",
      "weighted avg       0.97      0.97      0.97       236\n",
      "\n"
     ]
    }
   ],
   "execution_count": 3
  },
  {
   "metadata": {
    "ExecuteTime": {
     "end_time": "2025-02-27T18:39:39.997352Z",
     "start_time": "2025-02-27T18:39:39.106663Z"
    }
   },
   "cell_type": "code",
   "source": [
    "from sklearn.svm import SVC\n",
    "\n",
    "# Classifier 3 : Support Vector Classifier\n",
    "svm = SVC(kernel='linear')\n",
    "svm.fit(X_train_tfidf, y_train)\n",
    "y_pred_svm = svm.predict(X_test_tfidf)\n",
    "\n",
    "# Evaluation\n",
    "print(classification_report(y_test, y_pred_svm))"
   ],
   "id": "b0f7f8358e72224a",
   "outputs": [
    {
     "name": "stdout",
     "output_type": "stream",
     "text": [
      "              precision    recall  f1-score   support\n",
      "\n",
      "           0       0.97      0.98      0.98       120\n",
      "           1       0.98      0.97      0.97       116\n",
      "\n",
      "    accuracy                           0.97       236\n",
      "   macro avg       0.97      0.97      0.97       236\n",
      "weighted avg       0.97      0.97      0.97       236\n",
      "\n"
     ]
    }
   ],
   "execution_count": 4
  },
  {
   "metadata": {
    "ExecuteTime": {
     "end_time": "2025-02-27T18:39:46.939281Z",
     "start_time": "2025-02-27T18:39:44.288976Z"
    }
   },
   "cell_type": "code",
   "source": [
    "from sklearn.ensemble import RandomForestClassifier\n",
    "\n",
    "# Classifier  : Random Forest Classifier\n",
    "rf = RandomForestClassifier(n_estimators=100)\n",
    "rf.fit(X_train_tfidf, y_train)\n",
    "y_pred_rf = rf.predict(X_test_tfidf)\n",
    "\n",
    "# Evaluation\n",
    "print(classification_report(y_test, y_pred_rf))\n"
   ],
   "id": "8a7e611f6f0d5d5f",
   "outputs": [
    {
     "name": "stdout",
     "output_type": "stream",
     "text": [
      "              precision    recall  f1-score   support\n",
      "\n",
      "           0       0.90      0.94      0.92       120\n",
      "           1       0.94      0.90      0.92       116\n",
      "\n",
      "    accuracy                           0.92       236\n",
      "   macro avg       0.92      0.92      0.92       236\n",
      "weighted avg       0.92      0.92      0.92       236\n",
      "\n"
     ]
    }
   ],
   "execution_count": 5
  },
  {
   "metadata": {
    "ExecuteTime": {
     "end_time": "2025-02-27T18:39:50.910337Z",
     "start_time": "2025-02-27T18:39:50.797415Z"
    }
   },
   "cell_type": "code",
   "source": [
    "from sklearn.neighbors import KNeighborsClassifier\n",
    "\n",
    "# Classifier 5 : K-Nearest Neighbors\n",
    "knn = KNeighborsClassifier(n_neighbors=5)\n",
    "knn.fit(X_train_tfidf, y_train)\n",
    "y_pred_knn = knn.predict(X_test_tfidf)\n",
    "\n",
    "# Evaluation\n",
    "print(classification_report(y_test, y_pred_knn))\n"
   ],
   "id": "1e013e11945d79f1",
   "outputs": [
    {
     "name": "stdout",
     "output_type": "stream",
     "text": [
      "              precision    recall  f1-score   support\n",
      "\n",
      "           0       0.96      0.92      0.94       120\n",
      "           1       0.92      0.97      0.94       116\n",
      "\n",
      "    accuracy                           0.94       236\n",
      "   macro avg       0.94      0.94      0.94       236\n",
      "weighted avg       0.94      0.94      0.94       236\n",
      "\n"
     ]
    }
   ],
   "execution_count": 6
  }
 ],
 "metadata": {
  "kernelspec": {
   "display_name": "Python 3",
   "language": "python",
   "name": "python3"
  },
  "language_info": {
   "codemirror_mode": {
    "name": "ipython",
    "version": 2
   },
   "file_extension": ".py",
   "mimetype": "text/x-python",
   "name": "python",
   "nbconvert_exporter": "python",
   "pygments_lexer": "ipython2",
   "version": "2.7.6"
  }
 },
 "nbformat": 4,
 "nbformat_minor": 5
}
